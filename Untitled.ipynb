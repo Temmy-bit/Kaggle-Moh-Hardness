{
 "cells": [
  {
   "cell_type": "code",
   "execution_count": 1,
   "id": "5cfe6c91-978c-425e-9110-e7e0dc36c689",
   "metadata": {
    "tags": []
   },
   "outputs": [],
   "source": [
    "import pandas as pd\n",
    "import numpy as np\n",
    "import seaborn as sns\n",
    "import matplotlib.pyplot as plt\n",
    "from sklearn.model_selection import train_test_split\n",
    "from sklearn.ensemble import RandomForestRegressor\n",
    "from sklearn.linear_model import LinearRegression"
   ]
  },
  {
   "cell_type": "code",
   "execution_count": 2,
   "id": "6d94b34e-1c76-41b1-a8d5-46b2c4de24e8",
   "metadata": {
    "tags": []
   },
   "outputs": [
    {
     "data": {
      "text/html": [
       "<div>\n",
       "<style scoped>\n",
       "    .dataframe tbody tr th:only-of-type {\n",
       "        vertical-align: middle;\n",
       "    }\n",
       "\n",
       "    .dataframe tbody tr th {\n",
       "        vertical-align: top;\n",
       "    }\n",
       "\n",
       "    .dataframe thead th {\n",
       "        text-align: right;\n",
       "    }\n",
       "</style>\n",
       "<table border=\"1\" class=\"dataframe\">\n",
       "  <thead>\n",
       "    <tr style=\"text-align: right;\">\n",
       "      <th></th>\n",
       "      <th>id</th>\n",
       "      <th>allelectrons_Total</th>\n",
       "      <th>density_Total</th>\n",
       "      <th>allelectrons_Average</th>\n",
       "      <th>val_e_Average</th>\n",
       "      <th>atomicweight_Average</th>\n",
       "      <th>ionenergy_Average</th>\n",
       "      <th>el_neg_chi_Average</th>\n",
       "      <th>R_vdw_element_Average</th>\n",
       "      <th>R_cov_element_Average</th>\n",
       "      <th>zaratio_Average</th>\n",
       "      <th>density_Average</th>\n",
       "      <th>Hardness</th>\n",
       "    </tr>\n",
       "  </thead>\n",
       "  <tbody>\n",
       "    <tr>\n",
       "      <th>0</th>\n",
       "      <td>0</td>\n",
       "      <td>100.0</td>\n",
       "      <td>0.841611</td>\n",
       "      <td>10.0</td>\n",
       "      <td>4.8</td>\n",
       "      <td>20.612526</td>\n",
       "      <td>11.08810</td>\n",
       "      <td>2.766</td>\n",
       "      <td>1.732</td>\n",
       "      <td>0.860</td>\n",
       "      <td>0.496070</td>\n",
       "      <td>0.91457</td>\n",
       "      <td>6.0</td>\n",
       "    </tr>\n",
       "    <tr>\n",
       "      <th>1</th>\n",
       "      <td>1</td>\n",
       "      <td>100.0</td>\n",
       "      <td>7.558488</td>\n",
       "      <td>10.0</td>\n",
       "      <td>4.8</td>\n",
       "      <td>20.298893</td>\n",
       "      <td>12.04083</td>\n",
       "      <td>2.755</td>\n",
       "      <td>1.631</td>\n",
       "      <td>0.910</td>\n",
       "      <td>0.492719</td>\n",
       "      <td>0.71760</td>\n",
       "      <td>6.5</td>\n",
       "    </tr>\n",
       "    <tr>\n",
       "      <th>2</th>\n",
       "      <td>2</td>\n",
       "      <td>76.0</td>\n",
       "      <td>8.885992</td>\n",
       "      <td>15.6</td>\n",
       "      <td>5.6</td>\n",
       "      <td>33.739258</td>\n",
       "      <td>12.08630</td>\n",
       "      <td>2.828</td>\n",
       "      <td>1.788</td>\n",
       "      <td>0.864</td>\n",
       "      <td>0.481478</td>\n",
       "      <td>1.50633</td>\n",
       "      <td>2.5</td>\n",
       "    </tr>\n",
       "    <tr>\n",
       "      <th>3</th>\n",
       "      <td>3</td>\n",
       "      <td>100.0</td>\n",
       "      <td>8.795296</td>\n",
       "      <td>10.0</td>\n",
       "      <td>4.8</td>\n",
       "      <td>20.213349</td>\n",
       "      <td>10.94850</td>\n",
       "      <td>2.648</td>\n",
       "      <td>1.626</td>\n",
       "      <td>0.936</td>\n",
       "      <td>0.489272</td>\n",
       "      <td>0.78937</td>\n",
       "      <td>6.0</td>\n",
       "    </tr>\n",
       "    <tr>\n",
       "      <th>4</th>\n",
       "      <td>4</td>\n",
       "      <td>116.0</td>\n",
       "      <td>9.577996</td>\n",
       "      <td>11.6</td>\n",
       "      <td>4.8</td>\n",
       "      <td>24.988133</td>\n",
       "      <td>11.82448</td>\n",
       "      <td>2.766</td>\n",
       "      <td>1.682</td>\n",
       "      <td>0.896</td>\n",
       "      <td>0.492736</td>\n",
       "      <td>1.86481</td>\n",
       "      <td>6.0</td>\n",
       "    </tr>\n",
       "  </tbody>\n",
       "</table>\n",
       "</div>"
      ],
      "text/plain": [
       "   id  allelectrons_Total  density_Total  allelectrons_Average  val_e_Average  \\\n",
       "0   0               100.0       0.841611                  10.0            4.8   \n",
       "1   1               100.0       7.558488                  10.0            4.8   \n",
       "2   2                76.0       8.885992                  15.6            5.6   \n",
       "3   3               100.0       8.795296                  10.0            4.8   \n",
       "4   4               116.0       9.577996                  11.6            4.8   \n",
       "\n",
       "   atomicweight_Average  ionenergy_Average  el_neg_chi_Average  \\\n",
       "0             20.612526           11.08810               2.766   \n",
       "1             20.298893           12.04083               2.755   \n",
       "2             33.739258           12.08630               2.828   \n",
       "3             20.213349           10.94850               2.648   \n",
       "4             24.988133           11.82448               2.766   \n",
       "\n",
       "   R_vdw_element_Average  R_cov_element_Average  zaratio_Average  \\\n",
       "0                  1.732                  0.860         0.496070   \n",
       "1                  1.631                  0.910         0.492719   \n",
       "2                  1.788                  0.864         0.481478   \n",
       "3                  1.626                  0.936         0.489272   \n",
       "4                  1.682                  0.896         0.492736   \n",
       "\n",
       "   density_Average  Hardness  \n",
       "0          0.91457       6.0  \n",
       "1          0.71760       6.5  \n",
       "2          1.50633       2.5  \n",
       "3          0.78937       6.0  \n",
       "4          1.86481       6.0  "
      ]
     },
     "execution_count": 2,
     "metadata": {},
     "output_type": "execute_result"
    }
   ],
   "source": [
    "train_df = pd.read_csv(\"train.csv\")\n",
    "test_df = pd.read_csv(\"test.csv\")\n",
    "\n",
    "train_df.head()"
   ]
  },
  {
   "cell_type": "code",
   "execution_count": 3,
   "id": "13998ea8-3cb7-4d2c-89e2-08fdfb251be6",
   "metadata": {
    "tags": []
   },
   "outputs": [
    {
     "name": "stdout",
     "output_type": "stream",
     "text": [
      "<class 'pandas.core.frame.DataFrame'>\n",
      "RangeIndex: 10407 entries, 0 to 10406\n",
      "Data columns (total 13 columns):\n",
      " #   Column                 Non-Null Count  Dtype  \n",
      "---  ------                 --------------  -----  \n",
      " 0   id                     10407 non-null  int64  \n",
      " 1   allelectrons_Total     10407 non-null  float64\n",
      " 2   density_Total          10407 non-null  float64\n",
      " 3   allelectrons_Average   10407 non-null  float64\n",
      " 4   val_e_Average          10407 non-null  float64\n",
      " 5   atomicweight_Average   10407 non-null  float64\n",
      " 6   ionenergy_Average      10407 non-null  float64\n",
      " 7   el_neg_chi_Average     10407 non-null  float64\n",
      " 8   R_vdw_element_Average  10407 non-null  float64\n",
      " 9   R_cov_element_Average  10407 non-null  float64\n",
      " 10  zaratio_Average        10407 non-null  float64\n",
      " 11  density_Average        10407 non-null  float64\n",
      " 12  Hardness               10407 non-null  float64\n",
      "dtypes: float64(12), int64(1)\n",
      "memory usage: 1.0 MB\n",
      "<class 'pandas.core.frame.DataFrame'>\n",
      "RangeIndex: 6939 entries, 0 to 6938\n",
      "Data columns (total 12 columns):\n",
      " #   Column                 Non-Null Count  Dtype  \n",
      "---  ------                 --------------  -----  \n",
      " 0   id                     6939 non-null   int64  \n",
      " 1   allelectrons_Total     6939 non-null   float64\n",
      " 2   density_Total          6939 non-null   float64\n",
      " 3   allelectrons_Average   6939 non-null   float64\n",
      " 4   val_e_Average          6939 non-null   float64\n",
      " 5   atomicweight_Average   6939 non-null   float64\n",
      " 6   ionenergy_Average      6939 non-null   float64\n",
      " 7   el_neg_chi_Average     6939 non-null   float64\n",
      " 8   R_vdw_element_Average  6939 non-null   float64\n",
      " 9   R_cov_element_Average  6939 non-null   float64\n",
      " 10  zaratio_Average        6939 non-null   float64\n",
      " 11  density_Average        6939 non-null   float64\n",
      "dtypes: float64(11), int64(1)\n",
      "memory usage: 650.7 KB\n"
     ]
    },
    {
     "data": {
      "text/plain": [
       "(None, None)"
      ]
     },
     "execution_count": 3,
     "metadata": {},
     "output_type": "execute_result"
    }
   ],
   "source": [
    "train_df.info(),test_df.info()"
   ]
  },
  {
   "cell_type": "code",
   "execution_count": 4,
   "id": "a25f5820-bf69-4e4d-a39f-df08f3fbb829",
   "metadata": {
    "tags": []
   },
   "outputs": [
    {
     "data": {
      "text/html": [
       "<div>\n",
       "<style scoped>\n",
       "    .dataframe tbody tr th:only-of-type {\n",
       "        vertical-align: middle;\n",
       "    }\n",
       "\n",
       "    .dataframe tbody tr th {\n",
       "        vertical-align: top;\n",
       "    }\n",
       "\n",
       "    .dataframe thead th {\n",
       "        text-align: right;\n",
       "    }\n",
       "</style>\n",
       "<table border=\"1\" class=\"dataframe\">\n",
       "  <thead>\n",
       "    <tr style=\"text-align: right;\">\n",
       "      <th></th>\n",
       "      <th>id</th>\n",
       "      <th>allelectrons_Total</th>\n",
       "      <th>density_Total</th>\n",
       "      <th>allelectrons_Average</th>\n",
       "      <th>val_e_Average</th>\n",
       "      <th>atomicweight_Average</th>\n",
       "      <th>ionenergy_Average</th>\n",
       "      <th>el_neg_chi_Average</th>\n",
       "      <th>R_vdw_element_Average</th>\n",
       "      <th>R_cov_element_Average</th>\n",
       "      <th>zaratio_Average</th>\n",
       "      <th>density_Average</th>\n",
       "      <th>Hardness</th>\n",
       "    </tr>\n",
       "  </thead>\n",
       "  <tbody>\n",
       "    <tr>\n",
       "      <th>count</th>\n",
       "      <td>10407.00000</td>\n",
       "      <td>10407.000000</td>\n",
       "      <td>10407.000000</td>\n",
       "      <td>10407.000000</td>\n",
       "      <td>10407.000000</td>\n",
       "      <td>10407.000000</td>\n",
       "      <td>10407.000000</td>\n",
       "      <td>10407.000000</td>\n",
       "      <td>10407.000000</td>\n",
       "      <td>10407.000000</td>\n",
       "      <td>10407.000000</td>\n",
       "      <td>10407.000000</td>\n",
       "      <td>10407.000000</td>\n",
       "    </tr>\n",
       "    <tr>\n",
       "      <th>mean</th>\n",
       "      <td>5203.00000</td>\n",
       "      <td>128.053516</td>\n",
       "      <td>14.491342</td>\n",
       "      <td>17.033222</td>\n",
       "      <td>4.546789</td>\n",
       "      <td>37.507703</td>\n",
       "      <td>10.938308</td>\n",
       "      <td>2.607662</td>\n",
       "      <td>1.731330</td>\n",
       "      <td>0.944132</td>\n",
       "      <td>0.493349</td>\n",
       "      <td>2.132984</td>\n",
       "      <td>4.647126</td>\n",
       "    </tr>\n",
       "    <tr>\n",
       "      <th>std</th>\n",
       "      <td>3004.38646</td>\n",
       "      <td>224.123776</td>\n",
       "      <td>15.972877</td>\n",
       "      <td>10.468734</td>\n",
       "      <td>0.690864</td>\n",
       "      <td>26.012313</td>\n",
       "      <td>1.408276</td>\n",
       "      <td>0.334906</td>\n",
       "      <td>0.192481</td>\n",
       "      <td>0.180017</td>\n",
       "      <td>0.063080</td>\n",
       "      <td>1.936656</td>\n",
       "      <td>1.680525</td>\n",
       "    </tr>\n",
       "    <tr>\n",
       "      <th>min</th>\n",
       "      <td>0.00000</td>\n",
       "      <td>0.000000</td>\n",
       "      <td>0.000000</td>\n",
       "      <td>0.000000</td>\n",
       "      <td>0.000000</td>\n",
       "      <td>0.000000</td>\n",
       "      <td>0.000000</td>\n",
       "      <td>0.000000</td>\n",
       "      <td>0.000000</td>\n",
       "      <td>0.000000</td>\n",
       "      <td>0.000000</td>\n",
       "      <td>0.000000</td>\n",
       "      <td>1.000000</td>\n",
       "    </tr>\n",
       "    <tr>\n",
       "      <th>25%</th>\n",
       "      <td>2601.50000</td>\n",
       "      <td>68.000000</td>\n",
       "      <td>7.558488</td>\n",
       "      <td>10.000000</td>\n",
       "      <td>4.000000</td>\n",
       "      <td>20.298893</td>\n",
       "      <td>10.590660</td>\n",
       "      <td>2.530000</td>\n",
       "      <td>1.672500</td>\n",
       "      <td>0.864000</td>\n",
       "      <td>0.476196</td>\n",
       "      <td>0.814800</td>\n",
       "      <td>3.000000</td>\n",
       "    </tr>\n",
       "    <tr>\n",
       "      <th>50%</th>\n",
       "      <td>5203.00000</td>\n",
       "      <td>100.000000</td>\n",
       "      <td>10.650000</td>\n",
       "      <td>12.600000</td>\n",
       "      <td>4.714286</td>\n",
       "      <td>26.203827</td>\n",
       "      <td>11.202760</td>\n",
       "      <td>2.706000</td>\n",
       "      <td>1.732727</td>\n",
       "      <td>0.915556</td>\n",
       "      <td>0.488550</td>\n",
       "      <td>1.351550</td>\n",
       "      <td>5.500000</td>\n",
       "    </tr>\n",
       "    <tr>\n",
       "      <th>75%</th>\n",
       "      <td>7804.50000</td>\n",
       "      <td>131.000000</td>\n",
       "      <td>16.676996</td>\n",
       "      <td>22.000000</td>\n",
       "      <td>4.800000</td>\n",
       "      <td>48.719500</td>\n",
       "      <td>11.670725</td>\n",
       "      <td>2.805000</td>\n",
       "      <td>1.800000</td>\n",
       "      <td>0.981667</td>\n",
       "      <td>0.496070</td>\n",
       "      <td>2.741550</td>\n",
       "      <td>6.000000</td>\n",
       "    </tr>\n",
       "    <tr>\n",
       "      <th>max</th>\n",
       "      <td>10406.00000</td>\n",
       "      <td>15300.000000</td>\n",
       "      <td>643.093804</td>\n",
       "      <td>67.000000</td>\n",
       "      <td>6.000000</td>\n",
       "      <td>167.400000</td>\n",
       "      <td>15.245810</td>\n",
       "      <td>3.443000</td>\n",
       "      <td>2.250000</td>\n",
       "      <td>1.615840</td>\n",
       "      <td>0.825990</td>\n",
       "      <td>10.970000</td>\n",
       "      <td>10.000000</td>\n",
       "    </tr>\n",
       "  </tbody>\n",
       "</table>\n",
       "</div>"
      ],
      "text/plain": [
       "                id  allelectrons_Total  density_Total  allelectrons_Average  \\\n",
       "count  10407.00000        10407.000000   10407.000000          10407.000000   \n",
       "mean    5203.00000          128.053516      14.491342             17.033222   \n",
       "std     3004.38646          224.123776      15.972877             10.468734   \n",
       "min        0.00000            0.000000       0.000000              0.000000   \n",
       "25%     2601.50000           68.000000       7.558488             10.000000   \n",
       "50%     5203.00000          100.000000      10.650000             12.600000   \n",
       "75%     7804.50000          131.000000      16.676996             22.000000   \n",
       "max    10406.00000        15300.000000     643.093804             67.000000   \n",
       "\n",
       "       val_e_Average  atomicweight_Average  ionenergy_Average  \\\n",
       "count   10407.000000          10407.000000       10407.000000   \n",
       "mean        4.546789             37.507703          10.938308   \n",
       "std         0.690864             26.012313           1.408276   \n",
       "min         0.000000              0.000000           0.000000   \n",
       "25%         4.000000             20.298893          10.590660   \n",
       "50%         4.714286             26.203827          11.202760   \n",
       "75%         4.800000             48.719500          11.670725   \n",
       "max         6.000000            167.400000          15.245810   \n",
       "\n",
       "       el_neg_chi_Average  R_vdw_element_Average  R_cov_element_Average  \\\n",
       "count        10407.000000           10407.000000           10407.000000   \n",
       "mean             2.607662               1.731330               0.944132   \n",
       "std              0.334906               0.192481               0.180017   \n",
       "min              0.000000               0.000000               0.000000   \n",
       "25%              2.530000               1.672500               0.864000   \n",
       "50%              2.706000               1.732727               0.915556   \n",
       "75%              2.805000               1.800000               0.981667   \n",
       "max              3.443000               2.250000               1.615840   \n",
       "\n",
       "       zaratio_Average  density_Average      Hardness  \n",
       "count     10407.000000     10407.000000  10407.000000  \n",
       "mean          0.493349         2.132984      4.647126  \n",
       "std           0.063080         1.936656      1.680525  \n",
       "min           0.000000         0.000000      1.000000  \n",
       "25%           0.476196         0.814800      3.000000  \n",
       "50%           0.488550         1.351550      5.500000  \n",
       "75%           0.496070         2.741550      6.000000  \n",
       "max           0.825990        10.970000     10.000000  "
      ]
     },
     "execution_count": 4,
     "metadata": {},
     "output_type": "execute_result"
    }
   ],
   "source": [
    "train_df.describe()"
   ]
  },
  {
   "cell_type": "code",
   "execution_count": 5,
   "id": "dbaf8cdd-bc08-4de3-b31c-2ad074ec00a6",
   "metadata": {
    "tags": []
   },
   "outputs": [],
   "source": [
    "X = train_df.drop([\"id\",\"Hardness\"],axis=1)\n",
    "y = train_df[\"Hardness\"]"
   ]
  },
  {
   "cell_type": "code",
   "execution_count": 6,
   "id": "a01f800c-6ba0-4831-b288-b7e9982253c1",
   "metadata": {
    "tags": []
   },
   "outputs": [],
   "source": [
    "X_train,X_test,y_train,y_test = train_test_split(X,y)"
   ]
  },
  {
   "cell_type": "code",
   "execution_count": 8,
   "id": "7b0f0bc9-ea9f-4218-87c2-834a69a05af5",
   "metadata": {
    "tags": []
   },
   "outputs": [],
   "source": [
    "LR = LinearRegression()"
   ]
  },
  {
   "cell_type": "code",
   "execution_count": 9,
   "id": "79285311-320d-404d-aef4-146467f37385",
   "metadata": {
    "tags": []
   },
   "outputs": [
    {
     "data": {
      "text/html": [
       "<style>#sk-container-id-1 {color: black;}#sk-container-id-1 pre{padding: 0;}#sk-container-id-1 div.sk-toggleable {background-color: white;}#sk-container-id-1 label.sk-toggleable__label {cursor: pointer;display: block;width: 100%;margin-bottom: 0;padding: 0.3em;box-sizing: border-box;text-align: center;}#sk-container-id-1 label.sk-toggleable__label-arrow:before {content: \"▸\";float: left;margin-right: 0.25em;color: #696969;}#sk-container-id-1 label.sk-toggleable__label-arrow:hover:before {color: black;}#sk-container-id-1 div.sk-estimator:hover label.sk-toggleable__label-arrow:before {color: black;}#sk-container-id-1 div.sk-toggleable__content {max-height: 0;max-width: 0;overflow: hidden;text-align: left;background-color: #f0f8ff;}#sk-container-id-1 div.sk-toggleable__content pre {margin: 0.2em;color: black;border-radius: 0.25em;background-color: #f0f8ff;}#sk-container-id-1 input.sk-toggleable__control:checked~div.sk-toggleable__content {max-height: 200px;max-width: 100%;overflow: auto;}#sk-container-id-1 input.sk-toggleable__control:checked~label.sk-toggleable__label-arrow:before {content: \"▾\";}#sk-container-id-1 div.sk-estimator input.sk-toggleable__control:checked~label.sk-toggleable__label {background-color: #d4ebff;}#sk-container-id-1 div.sk-label input.sk-toggleable__control:checked~label.sk-toggleable__label {background-color: #d4ebff;}#sk-container-id-1 input.sk-hidden--visually {border: 0;clip: rect(1px 1px 1px 1px);clip: rect(1px, 1px, 1px, 1px);height: 1px;margin: -1px;overflow: hidden;padding: 0;position: absolute;width: 1px;}#sk-container-id-1 div.sk-estimator {font-family: monospace;background-color: #f0f8ff;border: 1px dotted black;border-radius: 0.25em;box-sizing: border-box;margin-bottom: 0.5em;}#sk-container-id-1 div.sk-estimator:hover {background-color: #d4ebff;}#sk-container-id-1 div.sk-parallel-item::after {content: \"\";width: 100%;border-bottom: 1px solid gray;flex-grow: 1;}#sk-container-id-1 div.sk-label:hover label.sk-toggleable__label {background-color: #d4ebff;}#sk-container-id-1 div.sk-serial::before {content: \"\";position: absolute;border-left: 1px solid gray;box-sizing: border-box;top: 0;bottom: 0;left: 50%;z-index: 0;}#sk-container-id-1 div.sk-serial {display: flex;flex-direction: column;align-items: center;background-color: white;padding-right: 0.2em;padding-left: 0.2em;position: relative;}#sk-container-id-1 div.sk-item {position: relative;z-index: 1;}#sk-container-id-1 div.sk-parallel {display: flex;align-items: stretch;justify-content: center;background-color: white;position: relative;}#sk-container-id-1 div.sk-item::before, #sk-container-id-1 div.sk-parallel-item::before {content: \"\";position: absolute;border-left: 1px solid gray;box-sizing: border-box;top: 0;bottom: 0;left: 50%;z-index: -1;}#sk-container-id-1 div.sk-parallel-item {display: flex;flex-direction: column;z-index: 1;position: relative;background-color: white;}#sk-container-id-1 div.sk-parallel-item:first-child::after {align-self: flex-end;width: 50%;}#sk-container-id-1 div.sk-parallel-item:last-child::after {align-self: flex-start;width: 50%;}#sk-container-id-1 div.sk-parallel-item:only-child::after {width: 0;}#sk-container-id-1 div.sk-dashed-wrapped {border: 1px dashed gray;margin: 0 0.4em 0.5em 0.4em;box-sizing: border-box;padding-bottom: 0.4em;background-color: white;}#sk-container-id-1 div.sk-label label {font-family: monospace;font-weight: bold;display: inline-block;line-height: 1.2em;}#sk-container-id-1 div.sk-label-container {text-align: center;}#sk-container-id-1 div.sk-container {/* jupyter's `normalize.less` sets `[hidden] { display: none; }` but bootstrap.min.css set `[hidden] { display: none !important; }` so we also need the `!important` here to be able to override the default hidden behavior on the sphinx rendered scikit-learn.org. See: https://github.com/scikit-learn/scikit-learn/issues/21755 */display: inline-block !important;position: relative;}#sk-container-id-1 div.sk-text-repr-fallback {display: none;}</style><div id=\"sk-container-id-1\" class=\"sk-top-container\"><div class=\"sk-text-repr-fallback\"><pre>LinearRegression()</pre><b>In a Jupyter environment, please rerun this cell to show the HTML representation or trust the notebook. <br />On GitHub, the HTML representation is unable to render, please try loading this page with nbviewer.org.</b></div><div class=\"sk-container\" hidden><div class=\"sk-item\"><div class=\"sk-estimator sk-toggleable\"><input class=\"sk-toggleable__control sk-hidden--visually\" id=\"sk-estimator-id-1\" type=\"checkbox\" checked><label for=\"sk-estimator-id-1\" class=\"sk-toggleable__label sk-toggleable__label-arrow\">LinearRegression</label><div class=\"sk-toggleable__content\"><pre>LinearRegression()</pre></div></div></div></div></div>"
      ],
      "text/plain": [
       "LinearRegression()"
      ]
     },
     "execution_count": 9,
     "metadata": {},
     "output_type": "execute_result"
    }
   ],
   "source": [
    "LR.fit(X_train,y_train)"
   ]
  },
  {
   "cell_type": "code",
   "execution_count": 10,
   "id": "1d9bdd9b-8cac-402d-8a29-eb329549625e",
   "metadata": {
    "tags": []
   },
   "outputs": [
    {
     "data": {
      "text/plain": [
       "array([3.44049968, 5.42233708, 4.24714469, 5.47309697, 5.28534208])"
      ]
     },
     "execution_count": 10,
     "metadata": {},
     "output_type": "execute_result"
    }
   ],
   "source": [
    "y_pred = LR.predict(X_test)\n",
    "y_pred[:5]"
   ]
  },
  {
   "cell_type": "code",
   "execution_count": 11,
   "id": "78d22de7-4387-44f8-84fd-711b1f446107",
   "metadata": {
    "tags": []
   },
   "outputs": [],
   "source": [
    "from sklearn.metrics import mean_squared_error,r2_score,median_absolute_error"
   ]
  },
  {
   "cell_type": "code",
   "execution_count": 12,
   "id": "b648f545-34db-4bb0-a403-38ebd064aeb9",
   "metadata": {
    "tags": []
   },
   "outputs": [
    {
     "data": {
      "text/plain": [
       "1.4594484441747004"
      ]
     },
     "execution_count": 12,
     "metadata": {},
     "output_type": "execute_result"
    }
   ],
   "source": [
    "rmse = np.sqrt(mean_squared_error(y_pred,y_test))\n",
    "rmse"
   ]
  },
  {
   "cell_type": "code",
   "execution_count": 13,
   "id": "2d46786c-cd0c-4d11-aeb1-1da5711c89e7",
   "metadata": {
    "tags": []
   },
   "outputs": [
    {
     "data": {
      "text/plain": [
       "0.9623367899522317"
      ]
     },
     "execution_count": 13,
     "metadata": {},
     "output_type": "execute_result"
    }
   ],
   "source": [
    "median_absolute_error(y_test,y_pred)"
   ]
  },
  {
   "cell_type": "code",
   "execution_count": 14,
   "id": "24ce7b25-c487-4b0a-9366-be2ae1ee65ae",
   "metadata": {
    "tags": []
   },
   "outputs": [
    {
     "data": {
      "text/plain": [
       "0    10407\n",
       "1    10408\n",
       "2    10409\n",
       "3    10410\n",
       "4    10411\n",
       "Name: id, dtype: int64"
      ]
     },
     "execution_count": 14,
     "metadata": {},
     "output_type": "execute_result"
    }
   ],
   "source": [
    "test_df_id = test_df[\"id\"]\n",
    "test_df.drop(\"id\",inplace = True,axis=1)\n",
    "test_df_id.head()"
   ]
  },
  {
   "cell_type": "code",
   "execution_count": 15,
   "id": "233cfebb-82af-44d0-a0d7-df67269d68e1",
   "metadata": {
    "tags": []
   },
   "outputs": [],
   "source": [
    "pred = LR.predict(test_df)"
   ]
  },
  {
   "cell_type": "code",
   "execution_count": 16,
   "id": "cec5d88c-5fbf-4015-b7d8-d83fe7a2ba89",
   "metadata": {
    "tags": []
   },
   "outputs": [],
   "source": [
    "data = {\"id\":test_df_id,\n",
    "        \"Hardness\":pred}\n",
    "\n",
    "# Create a DataFrame with 'id' as the index\n",
    "df = pd.DataFrame(data)\n",
    "df.set_index('id', inplace=True)\n",
    "df.head()\n",
    "df.to_csv(\"ped_sub.csv\",index=False)"
   ]
  },
  {
   "cell_type": "code",
   "execution_count": null,
   "id": "8f5f2aae-4fb5-4587-86d1-34d6440a93df",
   "metadata": {
    "tags": []
   },
   "outputs": [],
   "source": [
    "RF.shape"
   ]
  },
  {
   "cell_type": "code",
   "execution_count": null,
   "id": "f49eea6c-b5e1-4f6d-bb8f-da98b866ecbf",
   "metadata": {
    "tags": []
   },
   "outputs": [],
   "source": [
    "RF.info()"
   ]
  },
  {
   "cell_type": "code",
   "execution_count": null,
   "id": "77f74c4a-d5d0-452a-8ae1-4b38af21e494",
   "metadata": {
    "tags": []
   },
   "outputs": [],
   "source": [
    "RF.tail()"
   ]
  },
  {
   "cell_type": "code",
   "execution_count": null,
   "id": "fafed485-28a8-447f-a3cd-d8a1e63cfa31",
   "metadata": {
    "tags": []
   },
   "outputs": [],
   "source": [
    "RF.drop(index)"
   ]
  },
  {
   "cell_type": "code",
   "execution_count": null,
   "id": "9d3b646b-c8cd-4018-aef2-005a6375b5bf",
   "metadata": {
    "tags": []
   },
   "outputs": [],
   "source": [
    "pred"
   ]
  },
  {
   "cell_type": "code",
   "execution_count": 21,
   "id": "b2a22220-2793-4ac8-958e-0aadb737a9f2",
   "metadata": {
    "tags": []
   },
   "outputs": [],
   "source": [
    "RF = RandomForestRegressor()\n",
    "RF.fit(X_train,y_train)\n",
    "RF_pred = RF.predict(test_df)"
   ]
  },
  {
   "cell_type": "code",
   "execution_count": 22,
   "id": "cb971e63-5316-44e1-921b-be678bd8172c",
   "metadata": {
    "tags": []
   },
   "outputs": [],
   "source": [
    "lay = RF.predict(X_test)"
   ]
  },
  {
   "cell_type": "code",
   "execution_count": 23,
   "id": "a3c6bf3d-8995-4633-b218-e7ea08a93120",
   "metadata": {
    "tags": []
   },
   "outputs": [
    {
     "data": {
      "text/plain": [
       "0.673"
      ]
     },
     "execution_count": 23,
     "metadata": {},
     "output_type": "execute_result"
    }
   ],
   "source": [
    "median_absolute_error(lay,y_test)"
   ]
  },
  {
   "cell_type": "code",
   "execution_count": 24,
   "id": "c1ce0a11-220f-424f-bf1f-009f7736d7f5",
   "metadata": {
    "tags": []
   },
   "outputs": [
    {
     "data": {
      "text/html": [
       "<div>\n",
       "<style scoped>\n",
       "    .dataframe tbody tr th:only-of-type {\n",
       "        vertical-align: middle;\n",
       "    }\n",
       "\n",
       "    .dataframe tbody tr th {\n",
       "        vertical-align: top;\n",
       "    }\n",
       "\n",
       "    .dataframe thead th {\n",
       "        text-align: right;\n",
       "    }\n",
       "</style>\n",
       "<table border=\"1\" class=\"dataframe\">\n",
       "  <thead>\n",
       "    <tr style=\"text-align: right;\">\n",
       "      <th></th>\n",
       "      <th>allelectrons_Total</th>\n",
       "      <th>density_Total</th>\n",
       "      <th>allelectrons_Average</th>\n",
       "      <th>val_e_Average</th>\n",
       "      <th>atomicweight_Average</th>\n",
       "      <th>ionenergy_Average</th>\n",
       "      <th>el_neg_chi_Average</th>\n",
       "      <th>R_vdw_element_Average</th>\n",
       "      <th>R_cov_element_Average</th>\n",
       "      <th>zaratio_Average</th>\n",
       "      <th>density_Average</th>\n",
       "    </tr>\n",
       "  </thead>\n",
       "  <tbody>\n",
       "    <tr>\n",
       "      <th>9200</th>\n",
       "      <td>222.00</td>\n",
       "      <td>30.920000</td>\n",
       "      <td>31.666667</td>\n",
       "      <td>5.333333</td>\n",
       "      <td>75.839353</td>\n",
       "      <td>9.138583</td>\n",
       "      <td>2.205000</td>\n",
       "      <td>1.920000</td>\n",
       "      <td>1.240000</td>\n",
       "      <td>0.466388</td>\n",
       "      <td>5.50017</td>\n",
       "    </tr>\n",
       "    <tr>\n",
       "      <th>2243</th>\n",
       "      <td>70.00</td>\n",
       "      <td>5.625328</td>\n",
       "      <td>10.000000</td>\n",
       "      <td>4.571429</td>\n",
       "      <td>20.323314</td>\n",
       "      <td>11.130929</td>\n",
       "      <td>2.735714</td>\n",
       "      <td>1.751429</td>\n",
       "      <td>0.928571</td>\n",
       "      <td>0.498003</td>\n",
       "      <td>0.43908</td>\n",
       "    </tr>\n",
       "    <tr>\n",
       "      <th>359</th>\n",
       "      <td>46.00</td>\n",
       "      <td>11.775328</td>\n",
       "      <td>23.500000</td>\n",
       "      <td>4.333333</td>\n",
       "      <td>49.503082</td>\n",
       "      <td>11.408267</td>\n",
       "      <td>2.726667</td>\n",
       "      <td>1.765833</td>\n",
       "      <td>0.980000</td>\n",
       "      <td>0.478705</td>\n",
       "      <td>4.45167</td>\n",
       "    </tr>\n",
       "    <tr>\n",
       "      <th>5258</th>\n",
       "      <td>60.00</td>\n",
       "      <td>6.394996</td>\n",
       "      <td>10.000000</td>\n",
       "      <td>4.666667</td>\n",
       "      <td>20.027353</td>\n",
       "      <td>11.252967</td>\n",
       "      <td>2.806667</td>\n",
       "      <td>1.716667</td>\n",
       "      <td>0.893333</td>\n",
       "      <td>0.486507</td>\n",
       "      <td>0.71760</td>\n",
       "    </tr>\n",
       "    <tr>\n",
       "      <th>8066</th>\n",
       "      <td>236.18</td>\n",
       "      <td>18.206234</td>\n",
       "      <td>9.440000</td>\n",
       "      <td>4.480000</td>\n",
       "      <td>18.546536</td>\n",
       "      <td>10.987740</td>\n",
       "      <td>2.742308</td>\n",
       "      <td>1.664856</td>\n",
       "      <td>0.880769</td>\n",
       "      <td>0.490174</td>\n",
       "      <td>0.83154</td>\n",
       "    </tr>\n",
       "    <tr>\n",
       "      <th>...</th>\n",
       "      <td>...</td>\n",
       "      <td>...</td>\n",
       "      <td>...</td>\n",
       "      <td>...</td>\n",
       "      <td>...</td>\n",
       "      <td>...</td>\n",
       "      <td>...</td>\n",
       "      <td>...</td>\n",
       "      <td>...</td>\n",
       "      <td>...</td>\n",
       "      <td>...</td>\n",
       "    </tr>\n",
       "    <tr>\n",
       "      <th>9392</th>\n",
       "      <td>347.00</td>\n",
       "      <td>30.841971</td>\n",
       "      <td>12.281250</td>\n",
       "      <td>4.781250</td>\n",
       "      <td>25.386557</td>\n",
       "      <td>10.904975</td>\n",
       "      <td>2.661563</td>\n",
       "      <td>1.788125</td>\n",
       "      <td>0.946562</td>\n",
       "      <td>0.483071</td>\n",
       "      <td>1.55883</td>\n",
       "    </tr>\n",
       "    <tr>\n",
       "      <th>9633</th>\n",
       "      <td>100.00</td>\n",
       "      <td>7.558488</td>\n",
       "      <td>12.000000</td>\n",
       "      <td>4.800000</td>\n",
       "      <td>24.569126</td>\n",
       "      <td>10.993994</td>\n",
       "      <td>2.755000</td>\n",
       "      <td>1.743000</td>\n",
       "      <td>0.896000</td>\n",
       "      <td>0.492720</td>\n",
       "      <td>1.43926</td>\n",
       "    </tr>\n",
       "    <tr>\n",
       "      <th>6641</th>\n",
       "      <td>235.00</td>\n",
       "      <td>40.610000</td>\n",
       "      <td>31.500000</td>\n",
       "      <td>4.500000</td>\n",
       "      <td>70.924495</td>\n",
       "      <td>9.877100</td>\n",
       "      <td>2.298000</td>\n",
       "      <td>1.887500</td>\n",
       "      <td>1.195000</td>\n",
       "      <td>0.448895</td>\n",
       "      <td>5.52703</td>\n",
       "    </tr>\n",
       "    <tr>\n",
       "      <th>4650</th>\n",
       "      <td>198.00</td>\n",
       "      <td>7.767992</td>\n",
       "      <td>8.880000</td>\n",
       "      <td>4.400000</td>\n",
       "      <td>17.918277</td>\n",
       "      <td>12.040830</td>\n",
       "      <td>2.828000</td>\n",
       "      <td>1.598000</td>\n",
       "      <td>0.792000</td>\n",
       "      <td>0.574341</td>\n",
       "      <td>0.59237</td>\n",
       "    </tr>\n",
       "    <tr>\n",
       "      <th>7900</th>\n",
       "      <td>72.00</td>\n",
       "      <td>12.417996</td>\n",
       "      <td>14.400000</td>\n",
       "      <td>4.800000</td>\n",
       "      <td>32.387739</td>\n",
       "      <td>11.234080</td>\n",
       "      <td>2.572000</td>\n",
       "      <td>1.796000</td>\n",
       "      <td>0.914000</td>\n",
       "      <td>0.481478</td>\n",
       "      <td>1.20466</td>\n",
       "    </tr>\n",
       "  </tbody>\n",
       "</table>\n",
       "<p>2602 rows × 11 columns</p>\n",
       "</div>"
      ],
      "text/plain": [
       "      allelectrons_Total  density_Total  allelectrons_Average  val_e_Average  \\\n",
       "9200              222.00      30.920000             31.666667       5.333333   \n",
       "2243               70.00       5.625328             10.000000       4.571429   \n",
       "359                46.00      11.775328             23.500000       4.333333   \n",
       "5258               60.00       6.394996             10.000000       4.666667   \n",
       "8066              236.18      18.206234              9.440000       4.480000   \n",
       "...                  ...            ...                   ...            ...   \n",
       "9392              347.00      30.841971             12.281250       4.781250   \n",
       "9633              100.00       7.558488             12.000000       4.800000   \n",
       "6641              235.00      40.610000             31.500000       4.500000   \n",
       "4650              198.00       7.767992              8.880000       4.400000   \n",
       "7900               72.00      12.417996             14.400000       4.800000   \n",
       "\n",
       "      atomicweight_Average  ionenergy_Average  el_neg_chi_Average  \\\n",
       "9200             75.839353           9.138583            2.205000   \n",
       "2243             20.323314          11.130929            2.735714   \n",
       "359              49.503082          11.408267            2.726667   \n",
       "5258             20.027353          11.252967            2.806667   \n",
       "8066             18.546536          10.987740            2.742308   \n",
       "...                    ...                ...                 ...   \n",
       "9392             25.386557          10.904975            2.661563   \n",
       "9633             24.569126          10.993994            2.755000   \n",
       "6641             70.924495           9.877100            2.298000   \n",
       "4650             17.918277          12.040830            2.828000   \n",
       "7900             32.387739          11.234080            2.572000   \n",
       "\n",
       "      R_vdw_element_Average  R_cov_element_Average  zaratio_Average  \\\n",
       "9200               1.920000               1.240000         0.466388   \n",
       "2243               1.751429               0.928571         0.498003   \n",
       "359                1.765833               0.980000         0.478705   \n",
       "5258               1.716667               0.893333         0.486507   \n",
       "8066               1.664856               0.880769         0.490174   \n",
       "...                     ...                    ...              ...   \n",
       "9392               1.788125               0.946562         0.483071   \n",
       "9633               1.743000               0.896000         0.492720   \n",
       "6641               1.887500               1.195000         0.448895   \n",
       "4650               1.598000               0.792000         0.574341   \n",
       "7900               1.796000               0.914000         0.481478   \n",
       "\n",
       "      density_Average  \n",
       "9200          5.50017  \n",
       "2243          0.43908  \n",
       "359           4.45167  \n",
       "5258          0.71760  \n",
       "8066          0.83154  \n",
       "...               ...  \n",
       "9392          1.55883  \n",
       "9633          1.43926  \n",
       "6641          5.52703  \n",
       "4650          0.59237  \n",
       "7900          1.20466  \n",
       "\n",
       "[2602 rows x 11 columns]"
      ]
     },
     "execution_count": 24,
     "metadata": {},
     "output_type": "execute_result"
    }
   ],
   "source": [
    "X_test"
   ]
  },
  {
   "cell_type": "code",
   "execution_count": 28,
   "id": "57f5a235-d59f-4698-be66-351a8015d2bf",
   "metadata": {
    "tags": []
   },
   "outputs": [],
   "source": [
    "submission = test_df.copy()\n",
    "submission['Hardness'] = RF.predict(submission)\n",
    "\n",
    "submission.Hardness.to_csv('submission.csv')"
   ]
  },
  {
   "cell_type": "code",
   "execution_count": 29,
   "id": "0dab4cc1-084d-4a67-b08a-9719ae1561ef",
   "metadata": {
    "tags": []
   },
   "outputs": [
    {
     "data": {
      "text/html": [
       "<div>\n",
       "<style scoped>\n",
       "    .dataframe tbody tr th:only-of-type {\n",
       "        vertical-align: middle;\n",
       "    }\n",
       "\n",
       "    .dataframe tbody tr th {\n",
       "        vertical-align: top;\n",
       "    }\n",
       "\n",
       "    .dataframe thead th {\n",
       "        text-align: right;\n",
       "    }\n",
       "</style>\n",
       "<table border=\"1\" class=\"dataframe\">\n",
       "  <thead>\n",
       "    <tr style=\"text-align: right;\">\n",
       "      <th></th>\n",
       "      <th>allelectrons_Total</th>\n",
       "      <th>density_Total</th>\n",
       "      <th>allelectrons_Average</th>\n",
       "      <th>val_e_Average</th>\n",
       "      <th>atomicweight_Average</th>\n",
       "      <th>ionenergy_Average</th>\n",
       "      <th>el_neg_chi_Average</th>\n",
       "      <th>R_vdw_element_Average</th>\n",
       "      <th>R_cov_element_Average</th>\n",
       "      <th>zaratio_Average</th>\n",
       "      <th>density_Average</th>\n",
       "      <th>Hardness</th>\n",
       "    </tr>\n",
       "  </thead>\n",
       "  <tbody>\n",
       "    <tr>\n",
       "      <th>0</th>\n",
       "      <td>884.0</td>\n",
       "      <td>121.420000</td>\n",
       "      <td>35.360000</td>\n",
       "      <td>5.280000</td>\n",
       "      <td>82.561240</td>\n",
       "      <td>9.370384</td>\n",
       "      <td>2.298000</td>\n",
       "      <td>1.907200</td>\n",
       "      <td>1.200000</td>\n",
       "      <td>0.461899</td>\n",
       "      <td>1.79459</td>\n",
       "      <td>2.832</td>\n",
       "    </tr>\n",
       "    <tr>\n",
       "      <th>1</th>\n",
       "      <td>90.0</td>\n",
       "      <td>9.931960</td>\n",
       "      <td>18.000000</td>\n",
       "      <td>5.600000</td>\n",
       "      <td>39.568056</td>\n",
       "      <td>12.086300</td>\n",
       "      <td>2.868000</td>\n",
       "      <td>1.652000</td>\n",
       "      <td>0.864000</td>\n",
       "      <td>0.476196</td>\n",
       "      <td>1.41194</td>\n",
       "      <td>2.849</td>\n",
       "    </tr>\n",
       "    <tr>\n",
       "      <th>2</th>\n",
       "      <td>116.0</td>\n",
       "      <td>7.767992</td>\n",
       "      <td>11.600000</td>\n",
       "      <td>4.800000</td>\n",
       "      <td>23.231818</td>\n",
       "      <td>11.023840</td>\n",
       "      <td>2.644000</td>\n",
       "      <td>1.794000</td>\n",
       "      <td>0.960000</td>\n",
       "      <td>0.499514</td>\n",
       "      <td>0.78834</td>\n",
       "      <td>5.893</td>\n",
       "    </tr>\n",
       "    <tr>\n",
       "      <th>3</th>\n",
       "      <td>100.0</td>\n",
       "      <td>9.107996</td>\n",
       "      <td>10.000000</td>\n",
       "      <td>4.800000</td>\n",
       "      <td>20.298893</td>\n",
       "      <td>12.086300</td>\n",
       "      <td>2.828000</td>\n",
       "      <td>1.662000</td>\n",
       "      <td>0.792000</td>\n",
       "      <td>0.495796</td>\n",
       "      <td>1.20466</td>\n",
       "      <td>4.475</td>\n",
       "    </tr>\n",
       "    <tr>\n",
       "      <th>4</th>\n",
       "      <td>55.0</td>\n",
       "      <td>4.030000</td>\n",
       "      <td>11.000000</td>\n",
       "      <td>4.000000</td>\n",
       "      <td>22.977675</td>\n",
       "      <td>11.280950</td>\n",
       "      <td>2.455000</td>\n",
       "      <td>1.750000</td>\n",
       "      <td>0.893333</td>\n",
       "      <td>0.476095</td>\n",
       "      <td>0.93456</td>\n",
       "      <td>4.830</td>\n",
       "    </tr>\n",
       "    <tr>\n",
       "      <th>...</th>\n",
       "      <td>...</td>\n",
       "      <td>...</td>\n",
       "      <td>...</td>\n",
       "      <td>...</td>\n",
       "      <td>...</td>\n",
       "      <td>...</td>\n",
       "      <td>...</td>\n",
       "      <td>...</td>\n",
       "      <td>...</td>\n",
       "      <td>...</td>\n",
       "      <td>...</td>\n",
       "      <td>...</td>\n",
       "    </tr>\n",
       "    <tr>\n",
       "      <th>6934</th>\n",
       "      <td>446.0</td>\n",
       "      <td>36.135392</td>\n",
       "      <td>9.636364</td>\n",
       "      <td>4.636364</td>\n",
       "      <td>19.689448</td>\n",
       "      <td>11.045515</td>\n",
       "      <td>2.768636</td>\n",
       "      <td>1.769697</td>\n",
       "      <td>0.871818</td>\n",
       "      <td>0.498702</td>\n",
       "      <td>0.11548</td>\n",
       "      <td>5.646</td>\n",
       "    </tr>\n",
       "    <tr>\n",
       "      <th>6935</th>\n",
       "      <td>36.0</td>\n",
       "      <td>3.550000</td>\n",
       "      <td>18.000000</td>\n",
       "      <td>4.000000</td>\n",
       "      <td>36.068500</td>\n",
       "      <td>8.236600</td>\n",
       "      <td>1.790000</td>\n",
       "      <td>2.055000</td>\n",
       "      <td>1.390000</td>\n",
       "      <td>0.499000</td>\n",
       "      <td>1.35045</td>\n",
       "      <td>4.000</td>\n",
       "    </tr>\n",
       "    <tr>\n",
       "      <th>6936</th>\n",
       "      <td>68.0</td>\n",
       "      <td>4.545328</td>\n",
       "      <td>11.333333</td>\n",
       "      <td>5.333333</td>\n",
       "      <td>22.688853</td>\n",
       "      <td>10.938358</td>\n",
       "      <td>2.876667</td>\n",
       "      <td>1.713333</td>\n",
       "      <td>0.916667</td>\n",
       "      <td>0.499074</td>\n",
       "      <td>0.73425</td>\n",
       "      <td>4.962</td>\n",
       "    </tr>\n",
       "    <tr>\n",
       "      <th>6937</th>\n",
       "      <td>40.0</td>\n",
       "      <td>2.334164</td>\n",
       "      <td>6.666667</td>\n",
       "      <td>4.000000</td>\n",
       "      <td>13.016128</td>\n",
       "      <td>12.700467</td>\n",
       "      <td>2.770000</td>\n",
       "      <td>1.476667</td>\n",
       "      <td>0.616667</td>\n",
       "      <td>0.663797</td>\n",
       "      <td>0.51227</td>\n",
       "      <td>4.855</td>\n",
       "    </tr>\n",
       "    <tr>\n",
       "      <th>6938</th>\n",
       "      <td>134.0</td>\n",
       "      <td>17.590000</td>\n",
       "      <td>67.000000</td>\n",
       "      <td>5.000000</td>\n",
       "      <td>167.400000</td>\n",
       "      <td>8.213150</td>\n",
       "      <td>1.950000</td>\n",
       "      <td>2.040000</td>\n",
       "      <td>1.410000</td>\n",
       "      <td>0.401635</td>\n",
       "      <td>0.44035</td>\n",
       "      <td>2.894</td>\n",
       "    </tr>\n",
       "  </tbody>\n",
       "</table>\n",
       "<p>6939 rows × 12 columns</p>\n",
       "</div>"
      ],
      "text/plain": [
       "      allelectrons_Total  density_Total  allelectrons_Average  val_e_Average  \\\n",
       "0                  884.0     121.420000             35.360000       5.280000   \n",
       "1                   90.0       9.931960             18.000000       5.600000   \n",
       "2                  116.0       7.767992             11.600000       4.800000   \n",
       "3                  100.0       9.107996             10.000000       4.800000   \n",
       "4                   55.0       4.030000             11.000000       4.000000   \n",
       "...                  ...            ...                   ...            ...   \n",
       "6934               446.0      36.135392              9.636364       4.636364   \n",
       "6935                36.0       3.550000             18.000000       4.000000   \n",
       "6936                68.0       4.545328             11.333333       5.333333   \n",
       "6937                40.0       2.334164              6.666667       4.000000   \n",
       "6938               134.0      17.590000             67.000000       5.000000   \n",
       "\n",
       "      atomicweight_Average  ionenergy_Average  el_neg_chi_Average  \\\n",
       "0                82.561240           9.370384            2.298000   \n",
       "1                39.568056          12.086300            2.868000   \n",
       "2                23.231818          11.023840            2.644000   \n",
       "3                20.298893          12.086300            2.828000   \n",
       "4                22.977675          11.280950            2.455000   \n",
       "...                    ...                ...                 ...   \n",
       "6934             19.689448          11.045515            2.768636   \n",
       "6935             36.068500           8.236600            1.790000   \n",
       "6936             22.688853          10.938358            2.876667   \n",
       "6937             13.016128          12.700467            2.770000   \n",
       "6938            167.400000           8.213150            1.950000   \n",
       "\n",
       "      R_vdw_element_Average  R_cov_element_Average  zaratio_Average  \\\n",
       "0                  1.907200               1.200000         0.461899   \n",
       "1                  1.652000               0.864000         0.476196   \n",
       "2                  1.794000               0.960000         0.499514   \n",
       "3                  1.662000               0.792000         0.495796   \n",
       "4                  1.750000               0.893333         0.476095   \n",
       "...                     ...                    ...              ...   \n",
       "6934               1.769697               0.871818         0.498702   \n",
       "6935               2.055000               1.390000         0.499000   \n",
       "6936               1.713333               0.916667         0.499074   \n",
       "6937               1.476667               0.616667         0.663797   \n",
       "6938               2.040000               1.410000         0.401635   \n",
       "\n",
       "      density_Average  Hardness  \n",
       "0             1.79459     2.832  \n",
       "1             1.41194     2.849  \n",
       "2             0.78834     5.893  \n",
       "3             1.20466     4.475  \n",
       "4             0.93456     4.830  \n",
       "...               ...       ...  \n",
       "6934          0.11548     5.646  \n",
       "6935          1.35045     4.000  \n",
       "6936          0.73425     4.962  \n",
       "6937          0.51227     4.855  \n",
       "6938          0.44035     2.894  \n",
       "\n",
       "[6939 rows x 12 columns]"
      ]
     },
     "execution_count": 29,
     "metadata": {},
     "output_type": "execute_result"
    }
   ],
   "source": [
    "submission"
   ]
  },
  {
   "cell_type": "code",
   "execution_count": 30,
   "id": "f792f17a-c6cb-4466-a886-327721c8ff26",
   "metadata": {
    "tags": []
   },
   "outputs": [],
   "source": [
    "RF = pd.DataFrame({'id': test_df_id , 'Hardness': RF_pred})\n",
    "RF.to_csv('subm.csv', index=False)"
   ]
  },
  {
   "cell_type": "code",
   "execution_count": 26,
   "id": "d7cde309-9a0b-4702-af5b-7880bfee3236",
   "metadata": {},
   "outputs": [],
   "source": [
    "from catboost import CatBoostRegressor"
   ]
  },
  {
   "cell_type": "code",
   "execution_count": 32,
   "id": "19971f5c-6335-479f-9726-b247be97e847",
   "metadata": {
    "tags": []
   },
   "outputs": [],
   "source": [
    "cat = CatBoostRegressor(iterations=1000, #leaf_estimation_iterations=10,#800\n",
    "                              learning_rate=0.1,\n",
    "                              depth=5,#,scale_pos_weight=200,\n",
    "                             #l2_leaf_reg=10,\n",
    "                             bootstrap_type='Bernoulli',\n",
    "                              subsample=0.9,\n",
    "                              eval_metric='MedianAbsoluteError',\n",
    "                              metric_period=20,\n",
    "                                   #class_weight s=0,\n",
    "                              #od_type='Iter',\n",
    "                              #od_wait=45,\n",
    "                              #random_seed=10,\n",
    "                              allow_writing_files=False)"
   ]
  },
  {
   "cell_type": "code",
   "execution_count": 33,
   "id": "5f1f453a-1b6b-4979-bb04-abe7a03f32b3",
   "metadata": {
    "tags": []
   },
   "outputs": [
    {
     "name": "stdout",
     "output_type": "stream",
     "text": [
      "0:\ttotal: 7.71ms\tremaining: 7.71s\n",
      "20:\ttotal: 123ms\tremaining: 5.74s\n",
      "40:\ttotal: 207ms\tremaining: 4.84s\n",
      "60:\ttotal: 291ms\tremaining: 4.48s\n",
      "80:\ttotal: 360ms\tremaining: 4.09s\n",
      "100:\ttotal: 429ms\tremaining: 3.82s\n",
      "120:\ttotal: 499ms\tremaining: 3.63s\n",
      "140:\ttotal: 580ms\tremaining: 3.53s\n",
      "160:\ttotal: 650ms\tremaining: 3.39s\n",
      "180:\ttotal: 729ms\tremaining: 3.3s\n",
      "200:\ttotal: 802ms\tremaining: 3.19s\n",
      "220:\ttotal: 871ms\tremaining: 3.07s\n",
      "240:\ttotal: 943ms\tremaining: 2.97s\n",
      "260:\ttotal: 1.02s\tremaining: 2.89s\n",
      "280:\ttotal: 1.1s\tremaining: 2.81s\n",
      "300:\ttotal: 1.17s\tremaining: 2.73s\n",
      "320:\ttotal: 1.25s\tremaining: 2.64s\n",
      "340:\ttotal: 1.32s\tremaining: 2.55s\n",
      "360:\ttotal: 1.4s\tremaining: 2.48s\n",
      "380:\ttotal: 1.47s\tremaining: 2.39s\n",
      "400:\ttotal: 1.55s\tremaining: 2.31s\n",
      "420:\ttotal: 1.62s\tremaining: 2.23s\n",
      "440:\ttotal: 1.7s\tremaining: 2.16s\n",
      "460:\ttotal: 1.77s\tremaining: 2.07s\n",
      "480:\ttotal: 1.85s\tremaining: 1.99s\n",
      "500:\ttotal: 1.92s\tremaining: 1.92s\n",
      "520:\ttotal: 2s\tremaining: 1.83s\n",
      "540:\ttotal: 2.09s\tremaining: 1.77s\n",
      "560:\ttotal: 2.17s\tremaining: 1.7s\n",
      "580:\ttotal: 2.24s\tremaining: 1.61s\n",
      "600:\ttotal: 2.31s\tremaining: 1.53s\n",
      "620:\ttotal: 2.39s\tremaining: 1.46s\n",
      "640:\ttotal: 2.46s\tremaining: 1.38s\n",
      "660:\ttotal: 2.54s\tremaining: 1.3s\n",
      "680:\ttotal: 2.62s\tremaining: 1.22s\n",
      "700:\ttotal: 2.7s\tremaining: 1.15s\n",
      "720:\ttotal: 2.79s\tremaining: 1.08s\n",
      "740:\ttotal: 2.87s\tremaining: 1s\n",
      "760:\ttotal: 2.94s\tremaining: 923ms\n",
      "780:\ttotal: 3.02s\tremaining: 847ms\n",
      "800:\ttotal: 3.12s\tremaining: 774ms\n",
      "820:\ttotal: 3.2s\tremaining: 698ms\n",
      "840:\ttotal: 3.3s\tremaining: 623ms\n",
      "860:\ttotal: 3.38s\tremaining: 545ms\n",
      "880:\ttotal: 3.45s\tremaining: 466ms\n",
      "900:\ttotal: 3.54s\tremaining: 389ms\n",
      "920:\ttotal: 3.61s\tremaining: 309ms\n",
      "940:\ttotal: 3.69s\tremaining: 231ms\n",
      "960:\ttotal: 3.78s\tremaining: 154ms\n",
      "980:\ttotal: 3.86s\tremaining: 74.8ms\n",
      "999:\ttotal: 3.93s\tremaining: 0us\n"
     ]
    }
   ],
   "source": [
    "cat.fit(X_train,y_train)\n",
    "pred = cat.predict(X_test)\n"
   ]
  },
  {
   "cell_type": "code",
   "execution_count": 34,
   "id": "e1a4502d-6f56-432b-8da7-6361395b49b6",
   "metadata": {
    "tags": []
   },
   "outputs": [
    {
     "data": {
      "text/plain": [
       "0.7069905227444298"
      ]
     },
     "execution_count": 34,
     "metadata": {},
     "output_type": "execute_result"
    }
   ],
   "source": [
    "median_absolute_error(pred,y_test)"
   ]
  },
  {
   "cell_type": "code",
   "execution_count": null,
   "id": "582d7070-2a80-4a1d-b4d0-3c0f1de2c67c",
   "metadata": {},
   "outputs": [],
   "source": []
  }
 ],
 "metadata": {
  "kernelspec": {
   "display_name": "Python 3 (ipykernel)",
   "language": "python",
   "name": "python3"
  },
  "language_info": {
   "codemirror_mode": {
    "name": "ipython",
    "version": 3
   },
   "file_extension": ".py",
   "mimetype": "text/x-python",
   "name": "python",
   "nbconvert_exporter": "python",
   "pygments_lexer": "ipython3",
   "version": "3.11.5"
  }
 },
 "nbformat": 4,
 "nbformat_minor": 5
}
