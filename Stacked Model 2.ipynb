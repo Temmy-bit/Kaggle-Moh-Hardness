{
 "cells": [
  {
   "cell_type": "code",
   "execution_count": 1,
   "id": "3153dec1-8b3f-439f-8927-525b57c10cd2",
   "metadata": {},
   "outputs": [
    {
     "ename": "ModuleNotFoundError",
     "evalue": "No module named 'pandas'",
     "output_type": "error",
     "traceback": [
      "\u001b[1;31m---------------------------------------------------------------------------\u001b[0m",
      "\u001b[1;31mModuleNotFoundError\u001b[0m                       Traceback (most recent call last)",
      "\u001b[1;32mc:\\Users\\USER\\Kaggle Moh Hardness\\Stacked Model 2.ipynb Cell 1\u001b[0m line \u001b[0;36m4\n\u001b[0;32m      <a href='vscode-notebook-cell:/c%3A/Users/USER/Kaggle%20Moh%20Hardness/Stacked%20Model%202.ipynb#W0sZmlsZQ%3D%3D?line=0'>1</a>\u001b[0m \u001b[39m# let us import all the libraries\u001b[39;00m\n\u001b[0;32m      <a href='vscode-notebook-cell:/c%3A/Users/USER/Kaggle%20Moh%20Hardness/Stacked%20Model%202.ipynb#W0sZmlsZQ%3D%3D?line=1'>2</a>\u001b[0m \u001b[39m# to handle datasets\u001b[39;00m\n\u001b[0;32m      <a href='vscode-notebook-cell:/c%3A/Users/USER/Kaggle%20Moh%20Hardness/Stacked%20Model%202.ipynb#W0sZmlsZQ%3D%3D?line=2'>3</a>\u001b[0m \u001b[39mimport\u001b[39;00m \u001b[39mnumpy\u001b[39;00m \u001b[39mas\u001b[39;00m \u001b[39mnp\u001b[39;00m\n\u001b[1;32m----> <a href='vscode-notebook-cell:/c%3A/Users/USER/Kaggle%20Moh%20Hardness/Stacked%20Model%202.ipynb#W0sZmlsZQ%3D%3D?line=3'>4</a>\u001b[0m \u001b[39mimport\u001b[39;00m \u001b[39mpandas\u001b[39;00m \u001b[39mas\u001b[39;00m \u001b[39mpd\u001b[39;00m\n\u001b[0;32m      <a href='vscode-notebook-cell:/c%3A/Users/USER/Kaggle%20Moh%20Hardness/Stacked%20Model%202.ipynb#W0sZmlsZQ%3D%3D?line=4'>5</a>\u001b[0m \u001b[39m# for plotting\u001b[39;00m\n\u001b[0;32m      <a href='vscode-notebook-cell:/c%3A/Users/USER/Kaggle%20Moh%20Hardness/Stacked%20Model%202.ipynb#W0sZmlsZQ%3D%3D?line=5'>6</a>\u001b[0m \u001b[39mimport\u001b[39;00m \u001b[39mmatplotlib\u001b[39;00m\u001b[39m.\u001b[39;00m\u001b[39mpyplot\u001b[39;00m \u001b[39mas\u001b[39;00m \u001b[39mplt\u001b[39;00m\n",
      "\u001b[1;31mModuleNotFoundError\u001b[0m: No module named 'pandas'"
     ]
    }
   ],
   "source": [
    "# let us import all the libraries\n",
    "# to handle datasets\n",
    "import numpy as np\n",
    "import pandas as pd\n",
    "# for plotting\n",
    "import matplotlib.pyplot as plt\n",
    "# to divide train and test set\n",
    "from sklearn.model_selection import train_test_split\n",
    "# feature scaling\n",
    "from sklearn.preprocessing import MinMaxScaler\n",
    "#to buid models\n",
    "from sklearn.linear_model import Lasso\n",
    "from sklearn.feature_selection import SelectFromModel\n",
    "# models for Stacking\n",
    "from sklearn.ensemble import GradientBoostingRegressor\n",
    "from sklearn.ensemble import RandomForestRegressor\n",
    "from sklearn.ensemble import StackingRegressor\n",
    "from sklearn.linear_model import LassoCV\n",
    "from sklearn.linear_model import RidgeCV\n",
    "# to evaluate the model\n",
    "from sklearn.metrics import mean_squared_log_error\n",
    "from sklearn.metrics import mean_squared_error,r2_score\n",
    "import math\n",
    "#to find training time of the model\n",
    "import time\n",
    "# to visualise al the columns in the dataframe\n",
    "pd.pandas.set_option('display.max_columns', None)\n",
    "import warnings\n",
    "warnings.simplefilter(action='ignore')"
   ]
  },
  {
   "cell_type": "code",
   "execution_count": null,
   "id": "dffef491",
   "metadata": {},
   "outputs": [],
   "source": [
    "train_df = pd.read_csv(\"train.csv\")\n",
    "test_df = pd.read_csv(\"test.csv\")"
   ]
  },
  {
   "cell_type": "code",
   "execution_count": null,
   "id": "512a596e",
   "metadata": {},
   "outputs": [
    {
     "data": {
      "text/plain": [
       "((7805, 13), (2602, 13))"
      ]
     },
     "execution_count": 3,
     "metadata": {},
     "output_type": "execute_result"
    }
   ],
   "source": [
    "# Let's separate into train and test set\n",
    "# Remember to set the seed (random_state for this sklearn function)\n",
    "X_train, X_test, y_train, y_test = train_test_split(train_df,train_df['Hardness'],test_size=0.25,\n",
    "                                                     random_state=42) \n",
    "X_train.shape, X_test.shape"
   ]
  },
  {
   "cell_type": "code",
   "execution_count": null,
   "id": "4bc43287",
   "metadata": {},
   "outputs": [
    {
     "name": "stdout",
     "output_type": "stream",
     "text": [
      "False False\n"
     ]
    }
   ],
   "source": [
    "# capture all variables in a list\n",
    "# except the target and the ID\n",
    "train_vars = [var for var in X_train.columns if var not in ['id', 'Hardness']]\n",
    "# create scaler\n",
    "scaler = MinMaxScaler()\n",
    "#  fit  the scaler to the train set\n",
    "scaler.fit(X_train[train_vars]) \n",
    "# transform the train and test set\n",
    "X_train[train_vars] = scaler.transform(X_train[train_vars])\n",
    "X_test[train_vars] = scaler.transform(X_test[train_vars])\n",
    "test_df[train_vars] = scaler.transform(test_df[train_vars])\n",
    "print(X_train.isnull().sum().any(),X_test.isnull().sum().any())"
   ]
  },
  {
   "cell_type": "code",
   "execution_count": null,
   "id": "768ae8c9",
   "metadata": {},
   "outputs": [],
   "source": [
    "X_train.drop([\"id\",'Hardness'],axis=1,inplace=True)\n",
    "X_test.drop([\"id\",'Hardness'],axis=1,inplace=True)"
   ]
  },
  {
   "cell_type": "code",
   "execution_count": null,
   "id": "a52b073e",
   "metadata": {},
   "outputs": [
    {
     "data": {
      "text/html": [
       "<div>\n",
       "<style scoped>\n",
       "    .dataframe tbody tr th:only-of-type {\n",
       "        vertical-align: middle;\n",
       "    }\n",
       "\n",
       "    .dataframe tbody tr th {\n",
       "        vertical-align: top;\n",
       "    }\n",
       "\n",
       "    .dataframe thead th {\n",
       "        text-align: right;\n",
       "    }\n",
       "</style>\n",
       "<table border=\"1\" class=\"dataframe\">\n",
       "  <thead>\n",
       "    <tr style=\"text-align: right;\">\n",
       "      <th></th>\n",
       "      <th>allelectrons_Total</th>\n",
       "      <th>density_Total</th>\n",
       "      <th>allelectrons_Average</th>\n",
       "      <th>val_e_Average</th>\n",
       "      <th>atomicweight_Average</th>\n",
       "      <th>ionenergy_Average</th>\n",
       "      <th>el_neg_chi_Average</th>\n",
       "      <th>R_vdw_element_Average</th>\n",
       "      <th>R_cov_element_Average</th>\n",
       "      <th>zaratio_Average</th>\n",
       "      <th>density_Average</th>\n",
       "    </tr>\n",
       "  </thead>\n",
       "  <tbody>\n",
       "    <tr>\n",
       "      <th>8667</th>\n",
       "      <td>0.007843</td>\n",
       "      <td>0.036662</td>\n",
       "      <td>0.179104</td>\n",
       "      <td>0.800000</td>\n",
       "      <td>0.143880</td>\n",
       "      <td>0.746545</td>\n",
       "      <td>0.816149</td>\n",
       "      <td>0.773333</td>\n",
       "      <td>0.532231</td>\n",
       "      <td>0.596642</td>\n",
       "      <td>0.112046</td>\n",
       "    </tr>\n",
       "    <tr>\n",
       "      <th>8648</th>\n",
       "      <td>0.009412</td>\n",
       "      <td>0.035622</td>\n",
       "      <td>0.214925</td>\n",
       "      <td>0.866667</td>\n",
       "      <td>0.186409</td>\n",
       "      <td>0.707681</td>\n",
       "      <td>0.779553</td>\n",
       "      <td>0.826222</td>\n",
       "      <td>0.571220</td>\n",
       "      <td>0.592346</td>\n",
       "      <td>0.353064</td>\n",
       "    </tr>\n",
       "    <tr>\n",
       "      <th>7675</th>\n",
       "      <td>0.004967</td>\n",
       "      <td>0.023993</td>\n",
       "      <td>0.313433</td>\n",
       "      <td>0.666667</td>\n",
       "      <td>0.259848</td>\n",
       "      <td>0.614620</td>\n",
       "      <td>0.683125</td>\n",
       "      <td>0.835556</td>\n",
       "      <td>0.683236</td>\n",
       "      <td>0.578294</td>\n",
       "      <td>0.197665</td>\n",
       "    </tr>\n",
       "    <tr>\n",
       "      <th>4156</th>\n",
       "      <td>0.010196</td>\n",
       "      <td>0.015875</td>\n",
       "      <td>0.171642</td>\n",
       "      <td>0.805556</td>\n",
       "      <td>0.134884</td>\n",
       "      <td>0.712220</td>\n",
       "      <td>0.811211</td>\n",
       "      <td>0.760000</td>\n",
       "      <td>0.568848</td>\n",
       "      <td>0.580745</td>\n",
       "      <td>0.057416</td>\n",
       "    </tr>\n",
       "    <tr>\n",
       "      <th>8844</th>\n",
       "      <td>0.028758</td>\n",
       "      <td>0.067659</td>\n",
       "      <td>0.142764</td>\n",
       "      <td>0.797101</td>\n",
       "      <td>0.115668</td>\n",
       "      <td>0.720776</td>\n",
       "      <td>0.788746</td>\n",
       "      <td>0.761643</td>\n",
       "      <td>0.536536</td>\n",
       "      <td>0.593352</td>\n",
       "      <td>0.072543</td>\n",
       "    </tr>\n",
       "  </tbody>\n",
       "</table>\n",
       "</div>"
      ],
      "text/plain": [
       "      allelectrons_Total  density_Total  allelectrons_Average  val_e_Average  \\\n",
       "8667            0.007843       0.036662              0.179104       0.800000   \n",
       "8648            0.009412       0.035622              0.214925       0.866667   \n",
       "7675            0.004967       0.023993              0.313433       0.666667   \n",
       "4156            0.010196       0.015875              0.171642       0.805556   \n",
       "8844            0.028758       0.067659              0.142764       0.797101   \n",
       "\n",
       "      atomicweight_Average  ionenergy_Average  el_neg_chi_Average  \\\n",
       "8667              0.143880           0.746545            0.816149   \n",
       "8648              0.186409           0.707681            0.779553   \n",
       "7675              0.259848           0.614620            0.683125   \n",
       "4156              0.134884           0.712220            0.811211   \n",
       "8844              0.115668           0.720776            0.788746   \n",
       "\n",
       "      R_vdw_element_Average  R_cov_element_Average  zaratio_Average  \\\n",
       "8667               0.773333               0.532231         0.596642   \n",
       "8648               0.826222               0.571220         0.592346   \n",
       "7675               0.835556               0.683236         0.578294   \n",
       "4156               0.760000               0.568848         0.580745   \n",
       "8844               0.761643               0.536536         0.593352   \n",
       "\n",
       "      density_Average  \n",
       "8667         0.112046  \n",
       "8648         0.353064  \n",
       "7675         0.197665  \n",
       "4156         0.057416  \n",
       "8844         0.072543  "
      ]
     },
     "execution_count": 6,
     "metadata": {},
     "output_type": "execute_result"
    }
   ],
   "source": [
    "X_train.head()"
   ]
  },
  {
   "cell_type": "code",
   "execution_count": null,
   "id": "3eac4044",
   "metadata": {},
   "outputs": [
    {
     "data": {
      "text/plain": [
       "8667    6.0\n",
       "8648    3.8\n",
       "7675    3.8\n",
       "4156    5.3\n",
       "8844    7.0\n",
       "Name: Hardness, dtype: float64"
      ]
     },
     "execution_count": 7,
     "metadata": {},
     "output_type": "execute_result"
    }
   ],
   "source": [
    "y_train.head()"
   ]
  },
  {
   "cell_type": "markdown",
   "id": "661944ad",
   "metadata": {},
   "source": [
    "### KNeighborsRegressor"
   ]
  },
  {
   "cell_type": "code",
   "execution_count": 8,
   "id": "a56d4f92",
   "metadata": {},
   "outputs": [],
   "source": [
    "from sklearn.neighbors import KNeighborsRegressor"
   ]
  },
  {
   "cell_type": "code",
   "execution_count": 9,
   "id": "ce806fc9",
   "metadata": {},
   "outputs": [],
   "source": [
    "from sklearn.metrics import median_absolute_error"
   ]
  },
  {
   "cell_type": "code",
   "execution_count": 10,
   "id": "baab745c",
   "metadata": {},
   "outputs": [
    {
     "data": {
      "text/plain": [
       "0.07271748753689036"
      ]
     },
     "execution_count": 10,
     "metadata": {},
     "output_type": "execute_result"
    }
   ],
   "source": [
    "knn = KNeighborsRegressor(5)\n",
    "knn.fit(X_train,y_train)\n",
    "\n",
    "pred = knn.predict(X_test)\n",
    "mean_squared_log_error(pred,y_test)"
   ]
  },
  {
   "cell_type": "code",
   "execution_count": 11,
   "id": "1aba4e37",
   "metadata": {},
   "outputs": [
    {
     "data": {
      "text/plain": [
       "0.7400000000000002"
      ]
     },
     "execution_count": 11,
     "metadata": {},
     "output_type": "execute_result"
    }
   ],
   "source": [
    "median_absolute_error(pred,y_test)"
   ]
  },
  {
   "cell_type": "markdown",
   "id": "c5588b52",
   "metadata": {},
   "source": [
    "### Support Vector Machine"
   ]
  },
  {
   "cell_type": "code",
   "execution_count": 12,
   "id": "4c25ab31",
   "metadata": {},
   "outputs": [],
   "source": [
    "from sklearn.svm import SVR"
   ]
  },
  {
   "cell_type": "code",
   "execution_count": 52,
   "id": "edf63dd3",
   "metadata": {},
   "outputs": [],
   "source": [
    "svm = SVR(gamma=2,C=1,verbose=False,kernel='rbf')"
   ]
  },
  {
   "cell_type": "code",
   "execution_count": 53,
   "id": "77b8ec49",
   "metadata": {},
   "outputs": [
    {
     "data": {
      "text/plain": [
       "0.6242927750367706"
      ]
     },
     "execution_count": 53,
     "metadata": {},
     "output_type": "execute_result"
    }
   ],
   "source": [
    "svm.fit(X_train,y_train)\n",
    "pred = svm.predict(X_test)\n",
    "median_absolute_error(pred, y_test)"
   ]
  },
  {
   "cell_type": "code",
   "execution_count": 15,
   "id": "19372044",
   "metadata": {},
   "outputs": [],
   "source": [
    "from sklearn.ensemble import RandomForestRegressor"
   ]
  },
  {
   "cell_type": "code",
   "execution_count": 16,
   "id": "74e36ed2",
   "metadata": {},
   "outputs": [
    {
     "data": {
      "text/plain": [
       "0.7099999999999993"
      ]
     },
     "execution_count": 16,
     "metadata": {},
     "output_type": "execute_result"
    }
   ],
   "source": [
    "rf = RandomForestRegressor(n_estimators=10)\n",
    "rf.fit(X_train,y_train)\n",
    "pred = rf.predict(X_test)\n",
    "median_absolute_error(pred,y_test)"
   ]
  },
  {
   "cell_type": "code",
   "execution_count": 17,
   "id": "0d8a275a",
   "metadata": {},
   "outputs": [
    {
     "data": {
      "text/plain": [
       "array([[0.08738632, 0.18880605, 0.52776119, ..., 0.74288073, 0.55920677,\n",
       "        0.1635907 ],\n",
       "       [0.0088968 , 0.01544403, 0.26865672, ..., 0.53487412, 0.57651545,\n",
       "        0.12870921],\n",
       "       [0.01146698, 0.0120791 , 0.17313433, ..., 0.59430458, 0.60474582,\n",
       "        0.07186326],\n",
       "       ...,\n",
       "       [0.00672202, 0.00706791, 0.16915423, ..., 0.56747833, 0.60421333,\n",
       "        0.06693254],\n",
       "       [0.00395413, 0.00362958, 0.09950249, ..., 0.38175815, 0.80363766,\n",
       "        0.04669736],\n",
       "       [0.01324634, 0.02735215, 1.        , ..., 0.87288485, 0.48624681,\n",
       "        0.04014129]])"
      ]
     },
     "execution_count": 17,
     "metadata": {},
     "output_type": "execute_result"
    }
   ],
   "source": [
    "scaler.fit_transform(test_df[train_vars]) "
   ]
  },
  {
   "cell_type": "code",
   "execution_count": 18,
   "id": "f277c27a",
   "metadata": {},
   "outputs": [],
   "source": [
    "test_id = test_df['id']\n",
    "test_df.drop('id',axis =1,inplace=True)"
   ]
  },
  {
   "cell_type": "code",
   "execution_count": 19,
   "id": "431842c6",
   "metadata": {},
   "outputs": [],
   "source": [
    "pred = rf.predict(test_df)"
   ]
  },
  {
   "cell_type": "code",
   "execution_count": 20,
   "id": "8195f4c2",
   "metadata": {},
   "outputs": [],
   "source": [
    "RF = pd.DataFrame({'id': test_id , 'Hardness': pred})\n",
    "RF.to_csv('submmmmm.csv', index=False)"
   ]
  },
  {
   "cell_type": "code",
   "execution_count": 21,
   "id": "0430738f",
   "metadata": {},
   "outputs": [],
   "source": [
    "from sklearn.neural_network import MLPRegressor"
   ]
  },
  {
   "cell_type": "code",
   "execution_count": 22,
   "id": "c7b48551",
   "metadata": {},
   "outputs": [
    {
     "data": {
      "text/plain": [
       "0.9079232870888472"
      ]
     },
     "execution_count": 22,
     "metadata": {},
     "output_type": "execute_result"
    }
   ],
   "source": [
    "mlp = MLPRegressor(alpha=1,max_iter=1000)\n",
    "mlp.fit(X_train,y_train)\n",
    "pred = mlp.predict(X_test)\n",
    "median_absolute_error(pred,y_test)"
   ]
  },
  {
   "cell_type": "markdown",
   "id": "bd35eb28",
   "metadata": {},
   "source": [
    "### Decision Tree Regressor"
   ]
  },
  {
   "cell_type": "code",
   "execution_count": 23,
   "id": "d12c1c47",
   "metadata": {},
   "outputs": [],
   "source": [
    "from sklearn.tree import DecisionTreeRegressor"
   ]
  },
  {
   "cell_type": "code",
   "execution_count": 24,
   "id": "5502178d",
   "metadata": {},
   "outputs": [
    {
     "data": {
      "text/plain": [
       "0.6742021276595818"
      ]
     },
     "execution_count": 24,
     "metadata": {},
     "output_type": "execute_result"
    }
   ],
   "source": [
    "dt = DecisionTreeRegressor(max_depth=7)\n",
    "\n",
    "dt.fit(X_train,y_train)\n",
    "pred = dt.predict(X_test)\n",
    "median_absolute_error(pred,y_test)"
   ]
  },
  {
   "cell_type": "code",
   "execution_count": 25,
   "id": "c377ed16",
   "metadata": {},
   "outputs": [],
   "source": [
    "from sklearn.ensemble import StackingRegressor\n",
    "from sklearn.linear_model import LinearRegression\n",
    "\n",
    "estimators = [\n",
    "    (\"knn\",knn),\n",
    "    (\"svm\",svm),\n",
    "    (\"dt\",dt),\n",
    "    ('rf',rf),\n",
    "    (\"mlp\",mlp)\n",
    "]\n",
    "\n",
    "stack_model = StackingRegressor(estimators=estimators,final_estimator=LinearRegression())\n",
    "\n",
    "stack_model.fit(X_train,y_train)\n",
    "pred = stack_model.predict(X_test)"
   ]
  },
  {
   "cell_type": "code",
   "execution_count": 26,
   "id": "115e12ce",
   "metadata": {},
   "outputs": [
    {
     "data": {
      "text/plain": [
       "0.6794815735354989"
      ]
     },
     "execution_count": 26,
     "metadata": {},
     "output_type": "execute_result"
    }
   ],
   "source": [
    "\n",
    "median_absolute_error(pred,y_test)"
   ]
  },
  {
   "cell_type": "code",
   "execution_count": 27,
   "id": "befd0f2c",
   "metadata": {},
   "outputs": [],
   "source": [
    "from sklearn.linear_model import LassoCV,RidgeCV"
   ]
  },
  {
   "cell_type": "code",
   "execution_count": 28,
   "id": "fc83b309",
   "metadata": {},
   "outputs": [],
   "source": [
    "\n",
    "stack_model = StackingRegressor(estimators=estimators,final_estimator=LassoCV())\n",
    "\n",
    "stack_model.fit(X_train,y_train)\n",
    "pred = stack_model.predict(X_test)"
   ]
  },
  {
   "cell_type": "code",
   "execution_count": 29,
   "id": "8d28149d",
   "metadata": {},
   "outputs": [
    {
     "data": {
      "text/plain": [
       "0.6831060691347375"
      ]
     },
     "execution_count": 29,
     "metadata": {},
     "output_type": "execute_result"
    }
   ],
   "source": [
    "median_absolute_error(pred,y_test)"
   ]
  },
  {
   "cell_type": "code",
   "execution_count": 30,
   "id": "4355b32c",
   "metadata": {},
   "outputs": [
    {
     "data": {
      "text/plain": [
       "0.6898541310736523"
      ]
     },
     "execution_count": 30,
     "metadata": {},
     "output_type": "execute_result"
    }
   ],
   "source": [
    "\n",
    "stack_model = StackingRegressor(estimators=estimators,final_estimator=RidgeCV())\n",
    "\n",
    "stack_model.fit(X_train,y_train)\n",
    "pred = stack_model.predict(X_test)\n",
    "median_absolute_error(pred,y_test)"
   ]
  },
  {
   "cell_type": "code",
   "execution_count": 31,
   "id": "7161c645",
   "metadata": {},
   "outputs": [
    {
     "data": {
      "text/html": [
       "<div>\n",
       "<style scoped>\n",
       "    .dataframe tbody tr th:only-of-type {\n",
       "        vertical-align: middle;\n",
       "    }\n",
       "\n",
       "    .dataframe tbody tr th {\n",
       "        vertical-align: top;\n",
       "    }\n",
       "\n",
       "    .dataframe thead th {\n",
       "        text-align: right;\n",
       "    }\n",
       "</style>\n",
       "<table border=\"1\" class=\"dataframe\">\n",
       "  <thead>\n",
       "    <tr style=\"text-align: right;\">\n",
       "      <th></th>\n",
       "      <th>allelectrons_Total</th>\n",
       "      <th>density_Total</th>\n",
       "      <th>allelectrons_Average</th>\n",
       "      <th>val_e_Average</th>\n",
       "      <th>atomicweight_Average</th>\n",
       "      <th>ionenergy_Average</th>\n",
       "      <th>el_neg_chi_Average</th>\n",
       "      <th>R_vdw_element_Average</th>\n",
       "      <th>R_cov_element_Average</th>\n",
       "      <th>zaratio_Average</th>\n",
       "      <th>density_Average</th>\n",
       "    </tr>\n",
       "  </thead>\n",
       "  <tbody>\n",
       "    <tr>\n",
       "      <th>0</th>\n",
       "      <td>0.057778</td>\n",
       "      <td>0.188806</td>\n",
       "      <td>0.527761</td>\n",
       "      <td>0.880000</td>\n",
       "      <td>0.493197</td>\n",
       "      <td>0.614620</td>\n",
       "      <td>0.667441</td>\n",
       "      <td>0.847644</td>\n",
       "      <td>0.742648</td>\n",
       "      <td>0.559207</td>\n",
       "      <td>0.163591</td>\n",
       "    </tr>\n",
       "    <tr>\n",
       "      <th>1</th>\n",
       "      <td>0.005882</td>\n",
       "      <td>0.015444</td>\n",
       "      <td>0.268657</td>\n",
       "      <td>0.933333</td>\n",
       "      <td>0.236368</td>\n",
       "      <td>0.792762</td>\n",
       "      <td>0.832994</td>\n",
       "      <td>0.734222</td>\n",
       "      <td>0.534706</td>\n",
       "      <td>0.576515</td>\n",
       "      <td>0.128709</td>\n",
       "    </tr>\n",
       "    <tr>\n",
       "      <th>2</th>\n",
       "      <td>0.007582</td>\n",
       "      <td>0.012079</td>\n",
       "      <td>0.173134</td>\n",
       "      <td>0.800000</td>\n",
       "      <td>0.138780</td>\n",
       "      <td>0.723073</td>\n",
       "      <td>0.767935</td>\n",
       "      <td>0.797333</td>\n",
       "      <td>0.594118</td>\n",
       "      <td>0.604746</td>\n",
       "      <td>0.071863</td>\n",
       "    </tr>\n",
       "    <tr>\n",
       "      <th>3</th>\n",
       "      <td>0.006536</td>\n",
       "      <td>0.014163</td>\n",
       "      <td>0.149254</td>\n",
       "      <td>0.800000</td>\n",
       "      <td>0.121260</td>\n",
       "      <td>0.792762</td>\n",
       "      <td>0.821377</td>\n",
       "      <td>0.738667</td>\n",
       "      <td>0.490148</td>\n",
       "      <td>0.600244</td>\n",
       "      <td>0.109814</td>\n",
       "    </tr>\n",
       "    <tr>\n",
       "      <th>4</th>\n",
       "      <td>0.003595</td>\n",
       "      <td>0.006267</td>\n",
       "      <td>0.164179</td>\n",
       "      <td>0.666667</td>\n",
       "      <td>0.137262</td>\n",
       "      <td>0.739938</td>\n",
       "      <td>0.713041</td>\n",
       "      <td>0.777778</td>\n",
       "      <td>0.552860</td>\n",
       "      <td>0.576393</td>\n",
       "      <td>0.085192</td>\n",
       "    </tr>\n",
       "  </tbody>\n",
       "</table>\n",
       "</div>"
      ],
      "text/plain": [
       "   allelectrons_Total  density_Total  allelectrons_Average  val_e_Average  \\\n",
       "0            0.057778       0.188806              0.527761       0.880000   \n",
       "1            0.005882       0.015444              0.268657       0.933333   \n",
       "2            0.007582       0.012079              0.173134       0.800000   \n",
       "3            0.006536       0.014163              0.149254       0.800000   \n",
       "4            0.003595       0.006267              0.164179       0.666667   \n",
       "\n",
       "   atomicweight_Average  ionenergy_Average  el_neg_chi_Average  \\\n",
       "0              0.493197           0.614620            0.667441   \n",
       "1              0.236368           0.792762            0.832994   \n",
       "2              0.138780           0.723073            0.767935   \n",
       "3              0.121260           0.792762            0.821377   \n",
       "4              0.137262           0.739938            0.713041   \n",
       "\n",
       "   R_vdw_element_Average  R_cov_element_Average  zaratio_Average  \\\n",
       "0               0.847644               0.742648         0.559207   \n",
       "1               0.734222               0.534706         0.576515   \n",
       "2               0.797333               0.594118         0.604746   \n",
       "3               0.738667               0.490148         0.600244   \n",
       "4               0.777778               0.552860         0.576393   \n",
       "\n",
       "   density_Average  \n",
       "0         0.163591  \n",
       "1         0.128709  \n",
       "2         0.071863  \n",
       "3         0.109814  \n",
       "4         0.085192  "
      ]
     },
     "execution_count": 31,
     "metadata": {},
     "output_type": "execute_result"
    }
   ],
   "source": [
    "test_df.head()"
   ]
  },
  {
   "cell_type": "code",
   "execution_count": 32,
   "id": "f6c07ded",
   "metadata": {},
   "outputs": [],
   "source": [
    "pred = stack_model.predict(test_df)\n",
    "stack_pred = pd.DataFrame({'id': test_id , 'Hardness': pred})\n",
    "stack_pred.to_csv('subm_new2.csv', index=False)"
   ]
  },
  {
   "cell_type": "code",
   "execution_count": 33,
   "id": "aa1d4599",
   "metadata": {},
   "outputs": [],
   "source": [
    "from sklearn.ensemble import IsolationForest"
   ]
  },
  {
   "cell_type": "code",
   "execution_count": 34,
   "id": "46299e55",
   "metadata": {},
   "outputs": [
    {
     "data": {
      "text/plain": [
       "4.5"
      ]
     },
     "execution_count": 34,
     "metadata": {},
     "output_type": "execute_result"
    }
   ],
   "source": [
    "ISF = IsolationForest()\n",
    "ISF.fit(X_train,y_train)\n",
    "pred = ISF.predict(X_test)\n",
    "median_absolute_error(pred,y_test)"
   ]
  },
  {
   "cell_type": "code",
   "execution_count": 35,
   "id": "260d8afe",
   "metadata": {},
   "outputs": [],
   "source": [
    "pred = ISF.predict(test_df)\n",
    "stack_pred = pd.DataFrame({'id': test_id , 'Hardness': pred})\n",
    "stack_pred.to_csv('subm_.csv', index=False)"
   ]
  },
  {
   "cell_type": "code",
   "execution_count": 37,
   "id": "409fc7dd",
   "metadata": {},
   "outputs": [],
   "source": [
    "pred = svm.predict(test_df)\n",
    "svm_pred = pd.DataFrame({'id': test_id , 'Hardness': pred})\n",
    "svm_pred.to_csv('svm_subm_.csv', index=False)"
   ]
  },
  {
   "cell_type": "code",
   "execution_count": 69,
   "id": "e52c72ee",
   "metadata": {},
   "outputs": [],
   "source": [
    "from sklearn.preprocessing import PolynomialFeatures\n",
    "poly_reg = PolynomialFeatures(degree = 7)\n",
    "X_poly = poly_reg.fit_transform(X_train)\n",
    "poly_reg.fit(X_poly, y_train)\n",
    "lin_reg_2 = LinearRegression()\n",
    "lin_reg_2.fit(X_poly, y_train)\n"
   ]
  },
  {
   "cell_type": "code",
   "execution_count": null,
   "id": "06b47cc2",
   "metadata": {},
   "outputs": [],
   "source": [
    "X_poly_test = poly_reg.fit_transform(X_test)"
   ]
  },
  {
   "cell_type": "code",
   "execution_count": null,
   "id": "1452c2e7",
   "metadata": {},
   "outputs": [
    {
     "data": {
      "image/png": "[encoded data removed]",
      "text/plain": [
       "<Figure size 640x480 with 1 Axes>"
      ]
     },
     "metadata": {},
     "output_type": "display_data"
    }
   ],
   "source": [
    "# Visualising the Linear Regression results\n",
    "# plt.scatter(X_train, y_train, color = 'red')\n",
    "plt.plot(X_test, lin_reg_2.predict(X_poly_test), color = 'blue')\n",
    "plt.title('Truth or Bluff (Linear Regression)')\n",
    "plt.xlabel('Position level')\n",
    "plt.ylabel('Hardness')\n",
    "plt.show()"
   ]
  },
  {
   "cell_type": "code",
   "execution_count": null,
   "id": "36ddb568",
   "metadata": {},
   "outputs": [
    {
     "data": {
      "text/plain": [
       "0.8037479943108679"
      ]
     },
     "execution_count": 68,
     "metadata": {},
     "output_type": "execute_result"
    }
   ],
   "source": [
    "pred = lin_reg_2.predict(X_poly_test)\n",
    "median_absolute_error(pred,y_test)"
   ]
  },
  {
   "cell_type": "code",
   "execution_count": null,
   "id": "cae831a2",
   "metadata": {},
   "outputs": [],
   "source": []
  },
  {
   "cell_type": "code",
   "execution_count": null,
   "id": "754d2208",
   "metadata": {},
   "outputs": [],
   "source": []
  }
 ],
 "metadata": {
  "kernelspec": {
   "display_name": "Python 3 (ipykernel)",
   "language": "python",
   "name": "python3"
  },
  "language_info": {
   "codemirror_mode": {
    "name": "ipython",
    "version": 3
   },
   "file_extension": ".py",
   "mimetype": "text/x-python",
   "name": "python",
   "nbconvert_exporter": "python",
   "pygments_lexer": "ipython3",
   "version": "3.11.5"
  }
 },
 "nbformat": 4,
 "nbformat_minor": 5
}
